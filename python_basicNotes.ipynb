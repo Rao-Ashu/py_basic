{
  "nbformat": 4,
  "nbformat_minor": 0,
  "metadata": {
    "colab": {
      "provenance": [],
      "authorship_tag": "ABX9TyOdBCeYvehoVMiHPf9w0TWA",
      "include_colab_link": true
    },
    "kernelspec": {
      "name": "python3",
      "display_name": "Python 3"
    },
    "language_info": {
      "name": "python"
    }
  },
  "cells": [
    {
      "cell_type": "markdown",
      "metadata": {
        "id": "view-in-github",
        "colab_type": "text"
      },
      "source": [
        "<a href=\"https://colab.research.google.com/github/Rao-Ashu/py_basic/blob/main/python_basicNotes.ipynb\" target=\"_parent\"><img src=\"https://colab.research.google.com/assets/colab-badge.svg\" alt=\"Open In Colab\"/></a>"
      ]
    },
    {
      "cell_type": "markdown",
      "source": [
        "### **Python Keywords**\n",
        "(Total -> 35)\n"
      ],
      "metadata": {
        "id": "nvc_bZgwK97G"
      }
    },
    {
      "cell_type": "code",
      "source": [
        "import keyword\n",
        "print (keyword.kwlist)\n",
        "print(\"\\n Count => \", len(keyword.kwlist))"
      ],
      "metadata": {
        "colab": {
          "base_uri": "https://localhost:8080/"
        },
        "id": "9XbP6turLLFs",
        "outputId": "90de7179-3dea-4fa5-e5de-bad6b6dc6aca"
      },
      "execution_count": null,
      "outputs": [
        {
          "output_type": "stream",
          "name": "stdout",
          "text": [
            "['False', 'None', 'True', 'and', 'as', 'assert', 'async', 'await', 'break', 'class', 'continue', 'def', 'del', 'elif', 'else', 'except', 'finally', 'for', 'from', 'global', 'if', 'import', 'in', 'is', 'lambda', 'nonlocal', 'not', 'or', 'pass', 'raise', 'return', 'try', 'while', 'with', 'yield']\n",
            "\n",
            " Count =>  35\n"
          ]
        }
      ]
    },
    {
      "cell_type": "markdown",
      "source": [
        "### **Variable Assignments**"
      ],
      "metadata": {
        "id": "H8tAgTZGMDpj"
      }
    },
    {
      "cell_type": "code",
      "source": [
        "// simple assignment\n",
        "a = 10\n",
        "b = 5.5\n",
        "c = \"ML\"\n",
        "\n",
        "// Multiple assignment\n",
        "a,b,c = 10, 5.5, \"ML\"\n"
      ],
      "metadata": {
        "id": "41kCXHqLMWUR"
      },
      "execution_count": null,
      "outputs": []
    },
    {
      "cell_type": "markdown",
      "source": [
        "### **Storage Locations**"
      ],
      "metadata": {
        "id": "yT03zthcMs2e"
      }
    },
    {
      "cell_type": "code",
      "source": [
        "x = 3\n",
        "print(\"location of 3-> \", id(x))\n",
        "\n",
        "y=3\n",
        "print(\"location of 4-> \", id(y))\n",
        "//see both the locations are same"
      ],
      "metadata": {
        "colab": {
          "base_uri": "https://localhost:8080/"
        },
        "id": "EkbmCBfnM3lK",
        "outputId": "04b73f92-4307-4969-cbe7-751027817b31"
      },
      "execution_count": null,
      "outputs": [
        {
          "output_type": "stream",
          "name": "stdout",
          "text": [
            "location of 3->  140223088804144\n",
            "location of 4->  140223088804144\n"
          ]
        }
      ]
    },
    {
      "cell_type": "markdown",
      "source": [
        "### **Data Type** ->\n",
        "Everything in python is an object, datatype is the class and variables are the objects to these classes."
      ],
      "metadata": {
        "id": "J9tr3ao4NVN3"
      }
    },
    {
      "cell_type": "code",
      "source": [
        "from binascii import b2a_base64\n",
        "a = 5\n",
        "b = 5.5\n",
        "c = \"this is a string\"\n",
        "\n",
        "print(\"datatype of a->\", type(a))\n",
        "print(\"datatype of b->\", type(b))\n",
        "print(\"datatype of c->\", type(c))\n"
      ],
      "metadata": {
        "colab": {
          "base_uri": "https://localhost:8080/"
        },
        "id": "X1c7eTqANYXF",
        "outputId": "987ed58f-b316-4482-f675-9c8ed5cd0e20"
      },
      "execution_count": null,
      "outputs": [
        {
          "output_type": "stream",
          "name": "stdout",
          "text": [
            "datatype of a-> <class 'int'>\n",
            "datatype of b-> <class 'float'>\n",
            "datatype of c-> <class 'str'>\n"
          ]
        }
      ]
    },
    {
      "cell_type": "markdown",
      "source": [
        "### **String**"
      ],
      "metadata": {
        "id": "BahSEH9COsYD"
      }
    },
    {
      "cell_type": "code",
      "source": [
        "s = \"\"\"This is a\n",
        "        multi line string\"\"\"\n",
        "print(type(s))\n",
        "print(s[1])\n",
        "s[5:] #it will print the entire string uptill end\n"
      ],
      "metadata": {
        "colab": {
          "base_uri": "https://localhost:8080/",
          "height": 70
        },
        "id": "P_7iWLQzOvAG",
        "outputId": "b143863a-81d7-43a8-d328-d44e42f39a5b"
      },
      "execution_count": null,
      "outputs": [
        {
          "output_type": "stream",
          "name": "stdout",
          "text": [
            "<class 'str'>\n",
            "h\n"
          ]
        },
        {
          "output_type": "execute_result",
          "data": {
            "text/plain": [
              "'is a \\n        multi line string'"
            ],
            "application/vnd.google.colaboratory.intrinsic+json": {
              "type": "string"
            }
          },
          "metadata": {},
          "execution_count": 14
        }
      ]
    },
    {
      "cell_type": "code",
      "source": [
        "s[5:10] #will print only till end of current line"
      ],
      "metadata": {
        "colab": {
          "base_uri": "https://localhost:8080/",
          "height": 166
        },
        "id": "oN7HFaAKP1et",
        "outputId": "f0404308-3904-45bd-da83-6a5dbdc1547a"
      },
      "execution_count": null,
      "outputs": [
        {
          "output_type": "error",
          "ename": "TypeError",
          "evalue": "ignored",
          "traceback": [
            "\u001b[0;31m---------------------------------------------------------------------------\u001b[0m",
            "\u001b[0;31mTypeError\u001b[0m                                 Traceback (most recent call last)",
            "\u001b[0;32m<ipython-input-23-764b1d3e071e>\u001b[0m in \u001b[0;36m<cell line: 1>\u001b[0;34m()\u001b[0m\n\u001b[0;32m----> 1\u001b[0;31m \u001b[0ms\u001b[0m\u001b[0;34m[\u001b[0m\u001b[0;36m5\u001b[0m\u001b[0;34m:\u001b[0m\u001b[0;36m10\u001b[0m\u001b[0;34m]\u001b[0m \u001b[0;31m#will print only till end of current line\u001b[0m\u001b[0;34m\u001b[0m\u001b[0;34m\u001b[0m\u001b[0m\n\u001b[0m",
            "\u001b[0;31mTypeError\u001b[0m: 'set' object is not subscriptable"
          ]
        }
      ]
    },
    {
      "cell_type": "markdown",
      "source": [
        "### **LIST** ->\n",
        "list is an ordered sequence of items || Lists are mutable, value of list element can be altered"
      ],
      "metadata": {
        "id": "cVXTyQHTP-Mv"
      }
    },
    {
      "cell_type": "code",
      "source": [
        "a = [10,5.5, \"hala\"]\n",
        "print(a)\n",
        "a[2] = \"ram ram\"\n",
        "print(a)"
      ],
      "metadata": {
        "colab": {
          "base_uri": "https://localhost:8080/"
        },
        "id": "d6AckuP2Q8i2",
        "outputId": "eafb8403-867d-43c4-ff57-2cb60c46dcf1"
      },
      "execution_count": null,
      "outputs": [
        {
          "output_type": "stream",
          "name": "stdout",
          "text": [
            "[10, 5.5, 'hala']\n",
            "[10, 5.5, 'ram ram']\n"
          ]
        }
      ]
    },
    {
      "cell_type": "markdown",
      "source": [
        "### **Tuple** -> Ordered sequence, but these are unmutable(tuple once created cannot be modified)"
      ],
      "metadata": {
        "id": "IG1aiPKFRimn"
      }
    },
    {
      "cell_type": "code",
      "source": [
        "t = (10, 5.5, \"hala\")\n",
        "print (t)\n",
        "print(t[2])"
      ],
      "metadata": {
        "colab": {
          "base_uri": "https://localhost:8080/"
        },
        "id": "zLldc-v8RyuY",
        "outputId": "bf4b7926-3ac1-40d2-a274-517432748fa6"
      },
      "execution_count": null,
      "outputs": [
        {
          "output_type": "stream",
          "name": "stdout",
          "text": [
            "(10, 5.5, 'hala')\n",
            "hala\n"
          ]
        }
      ]
    },
    {
      "cell_type": "code",
      "source": [
        "t[1] = 0"
      ],
      "metadata": {
        "colab": {
          "base_uri": "https://localhost:8080/",
          "height": 166
        },
        "id": "Ikc5_JlVR-Hf",
        "outputId": "9c1b9891-bd67-4817-c22b-ae7220f7ff7b"
      },
      "execution_count": null,
      "outputs": [
        {
          "output_type": "error",
          "ename": "TypeError",
          "evalue": "ignored",
          "traceback": [
            "\u001b[0;31m---------------------------------------------------------------------------\u001b[0m",
            "\u001b[0;31mTypeError\u001b[0m                                 Traceback (most recent call last)",
            "\u001b[0;32m<ipython-input-19-4ee5980e88ea>\u001b[0m in \u001b[0;36m<cell line: 1>\u001b[0;34m()\u001b[0m\n\u001b[0;32m----> 1\u001b[0;31m \u001b[0mt\u001b[0m\u001b[0;34m[\u001b[0m\u001b[0;36m1\u001b[0m\u001b[0;34m]\u001b[0m \u001b[0;34m=\u001b[0m \u001b[0;36m0\u001b[0m\u001b[0;34m\u001b[0m\u001b[0;34m\u001b[0m\u001b[0m\n\u001b[0m",
            "\u001b[0;31mTypeError\u001b[0m: 'tuple' object does not support item assignment"
          ]
        }
      ]
    },
    {
      "cell_type": "markdown",
      "source": [
        "### **SET** -> *unordered* collection of unique items || immutable as unordered"
      ],
      "metadata": {
        "id": "WpBRZtWFSF6n"
      }
    },
    {
      "cell_type": "code",
      "source": [
        "s = {1,2,3,2,4,5}\n",
        "print (s)"
      ],
      "metadata": {
        "colab": {
          "base_uri": "https://localhost:8080/"
        },
        "id": "fiOiYS4cSRFE",
        "outputId": "74ceff8d-9537-449c-b942-36bdc633ff43"
      },
      "execution_count": null,
      "outputs": [
        {
          "output_type": "stream",
          "name": "stdout",
          "text": [
            "{1, 2, 3, 4, 5}\n"
          ]
        }
      ]
    },
    {
      "cell_type": "code",
      "source": [
        "s[1] = 10"
      ],
      "metadata": {
        "colab": {
          "base_uri": "https://localhost:8080/",
          "height": 166
        },
        "id": "IpFaqaTJUlhq",
        "outputId": "02a2472a-d908-4304-ec7a-b3d0f79c606a"
      },
      "execution_count": null,
      "outputs": [
        {
          "output_type": "error",
          "ename": "TypeError",
          "evalue": "ignored",
          "traceback": [
            "\u001b[0;31m---------------------------------------------------------------------------\u001b[0m",
            "\u001b[0;31mTypeError\u001b[0m                                 Traceback (most recent call last)",
            "\u001b[0;32m<ipython-input-21-d8b471273ca8>\u001b[0m in \u001b[0;36m<cell line: 1>\u001b[0;34m()\u001b[0m\n\u001b[0;32m----> 1\u001b[0;31m \u001b[0ms\u001b[0m\u001b[0;34m[\u001b[0m\u001b[0;36m1\u001b[0m\u001b[0;34m]\u001b[0m \u001b[0;34m=\u001b[0m \u001b[0;36m10\u001b[0m\u001b[0;34m\u001b[0m\u001b[0;34m\u001b[0m\u001b[0m\n\u001b[0m",
            "\u001b[0;31mTypeError\u001b[0m: 'set' object does not support item assignment"
          ]
        }
      ]
    },
    {
      "cell_type": "markdown",
      "source": [
        "### **Dictionary** -> unordered collection of key-value pairs."
      ],
      "metadata": {
        "id": "pi6SCtneUuOV"
      }
    },
    {
      "cell_type": "code",
      "source": [
        "d = {'a': \"apple\", 'b':\"bat\"}\n",
        "print(d)\n",
        "print(d['a'])"
      ],
      "metadata": {
        "colab": {
          "base_uri": "https://localhost:8080/"
        },
        "id": "3pkTF-KSU6Y6",
        "outputId": "83cf54a1-631c-479c-fa6d-20f9cebf7dc6"
      },
      "execution_count": null,
      "outputs": [
        {
          "output_type": "stream",
          "name": "stdout",
          "text": [
            "{'a': 'apple', 'b': 'bat'}\n",
            "apple\n"
          ]
        }
      ]
    },
    {
      "cell_type": "markdown",
      "source": [
        "### **Conversion between datatype**"
      ],
      "metadata": {
        "id": "ZnljLu7fWA0o"
      }
    },
    {
      "cell_type": "code",
      "source": [
        "a = float(10)\n",
        "b = int(5.5)\n",
        "c = str(10)\n",
        "print(\"a->\",a)\n",
        "print(\"b->\",b)\n",
        "print(\"c->\",c, type(c))\n"
      ],
      "metadata": {
        "colab": {
          "base_uri": "https://localhost:8080/"
        },
        "id": "JFdbl3MPWGhK",
        "outputId": "2179ce12-f54e-439a-d1ee-fbab512206b2"
      },
      "execution_count": null,
      "outputs": [
        {
          "output_type": "stream",
          "name": "stdout",
          "text": [
            "a-> 10.0\n",
            "b-> 5\n",
            "c-> 10 <class 'str'>\n"
          ]
        }
      ]
    },
    {
      "cell_type": "code",
      "source": [
        "a = [1,2,3]\n",
        "b = set(a)\n",
        "type(b)\n"
      ],
      "metadata": {
        "colab": {
          "base_uri": "https://localhost:8080/"
        },
        "id": "M7a-s3IhXPFM",
        "outputId": "ccb4ac1e-a1f1-4da4-9808-a800be1e0564"
      },
      "execution_count": null,
      "outputs": [
        {
          "output_type": "execute_result",
          "data": {
            "text/plain": [
              "set"
            ]
          },
          "metadata": {},
          "execution_count": 32
        }
      ]
    },
    {
      "cell_type": "code",
      "source": [
        "list(\"hello\")"
      ],
      "metadata": {
        "colab": {
          "base_uri": "https://localhost:8080/"
        },
        "id": "U3ziAmH0XWqU",
        "outputId": "93a43424-763c-482c-d241-656bb6ceeccc"
      },
      "execution_count": null,
      "outputs": [
        {
          "output_type": "execute_result",
          "data": {
            "text/plain": [
              "['h', 'e', 'l', 'l', 'o']"
            ]
          },
          "metadata": {},
          "execution_count": 33
        }
      ]
    },
    {
      "cell_type": "markdown",
      "source": [
        "### **Output Formatting**"
      ],
      "metadata": {
        "id": "X-q7fkilYJ3z"
      }
    },
    {
      "cell_type": "code",
      "source": [
        "a = 10; b = 20\n",
        "print(\"value of a is {} and b is {}\".format(a,b)) #default"
      ],
      "metadata": {
        "colab": {
          "base_uri": "https://localhost:8080/"
        },
        "id": "FyRUDWIfYPn7",
        "outputId": "53eb3045-d4ad-40a0-fb6f-6ebff56bf6d5"
      },
      "execution_count": null,
      "outputs": [
        {
          "output_type": "stream",
          "name": "stdout",
          "text": [
            "value of a is 10 and b is 20\n"
          ]
        }
      ]
    },
    {
      "cell_type": "code",
      "source": [
        "print(\"value of b is {1} and a is {0}\".format(a,b))"
      ],
      "metadata": {
        "colab": {
          "base_uri": "https://localhost:8080/"
        },
        "id": "kFmiYfxVYglg",
        "outputId": "44e7f37c-d1c0-4570-85cc-98e9dd2f3f9d"
      },
      "execution_count": null,
      "outputs": [
        {
          "output_type": "stream",
          "name": "stdout",
          "text": [
            "value of b is 20 and a is 10\n"
          ]
        }
      ]
    },
    {
      "cell_type": "code",
      "source": [
        "print(\"welcome {name}, good {message}\".format(name = \"ashu\", message = \"morning\"))"
      ],
      "metadata": {
        "colab": {
          "base_uri": "https://localhost:8080/"
        },
        "id": "Zw0iDDpCYyq0",
        "outputId": "dda2598a-ffae-4535-cd1b-8efaed957263"
      },
      "execution_count": null,
      "outputs": [
        {
          "output_type": "stream",
          "name": "stdout",
          "text": [
            "welcome ashu, good morning\n"
          ]
        }
      ]
    },
    {
      "cell_type": "markdown",
      "source": [
        "### **Input**"
      ],
      "metadata": {
        "id": "J9WkjfqPZHlu"
      }
    },
    {
      "cell_type": "code",
      "source": [
        "a = input(\"enter the number \")\n",
        "print(\"you have entered ->\",a)"
      ],
      "metadata": {
        "colab": {
          "base_uri": "https://localhost:8080/"
        },
        "id": "eOkpVKYvZK6K",
        "outputId": "97653c6a-adf3-414e-cee0-56b704bd272a"
      },
      "execution_count": null,
      "outputs": [
        {
          "output_type": "stream",
          "name": "stdout",
          "text": [
            "enter the number3\n",
            "you have entered -> 3\n"
          ]
        }
      ]
    },
    {
      "cell_type": "markdown",
      "source": [
        "### **Operators**\n",
        "exponent(**) ||\n",
        "floor division(//) || and || or || not || is || is not"
      ],
      "metadata": {
        "id": "gHlfB-0eZhtq"
      }
    },
    {
      "cell_type": "code",
      "source": [
        "l = [1,2,3,4]\n",
        "1 in l"
      ],
      "metadata": {
        "colab": {
          "base_uri": "https://localhost:8080/"
        },
        "id": "UrqzniPDaSDJ",
        "outputId": "b6e7a91a-6a8c-4b7f-a677-64e194da399a"
      },
      "execution_count": null,
      "outputs": [
        {
          "output_type": "execute_result",
          "data": {
            "text/plain": [
              "True"
            ]
          },
          "metadata": {},
          "execution_count": 39
        }
      ]
    },
    {
      "cell_type": "code",
      "source": [
        "a = 5\n",
        "b = 5\n",
        "print(a is b)\n",
        "\n",
        "l1 = [1,2,4]\n",
        "l2 = [1,2,4]\n",
        "\n",
        "l1 is l2\n"
      ],
      "metadata": {
        "colab": {
          "base_uri": "https://localhost:8080/"
        },
        "id": "UmH8g-zJaam6",
        "outputId": "fdf1a3f1-84fb-41f6-c9d6-42f5566f612d"
      },
      "execution_count": null,
      "outputs": [
        {
          "output_type": "stream",
          "name": "stdout",
          "text": [
            "True\n"
          ]
        },
        {
          "output_type": "execute_result",
          "data": {
            "text/plain": [
              "False"
            ]
          },
          "metadata": {},
          "execution_count": 46
        }
      ]
    },
    {
      "cell_type": "markdown",
      "source": [
        "### **If-else**"
      ],
      "metadata": {
        "id": "yNq_JfH9fNVE"
      }
    },
    {
      "cell_type": "code",
      "source": [
        "n1 = 1\n",
        "n2 = 2\n",
        "n3 = 3\n",
        "if (n1 > n2) and (n1>n3):\n",
        "    largest = n1\n",
        "elif (n2>n1) and (n2>n3):\n",
        "    largest = n2\n",
        "else:\n",
        "    largest = n3\n",
        "print(\"largest -> \", largest)"
      ],
      "metadata": {
        "colab": {
          "base_uri": "https://localhost:8080/"
        },
        "id": "BrjXsI7YgC-9",
        "outputId": "fa478e7c-521b-4d46-d3c2-dbec4eee5829"
      },
      "execution_count": null,
      "outputs": [
        {
          "output_type": "stream",
          "name": "stdout",
          "text": [
            "largest ->  3\n"
          ]
        }
      ]
    },
    {
      "cell_type": "markdown",
      "source": [
        "### **WHILE loop**"
      ],
      "metadata": {
        "id": "Pvte6OcsgO6D"
      }
    },
    {
      "cell_type": "code",
      "source": [
        "l = [1,2,3,4]\n",
        "i=0\n",
        "while i < len(l):\n",
        "    print(l[i])\n",
        "    i+=1\n",
        "else:\n",
        "    print(\"no item left in the list\")"
      ],
      "metadata": {
        "colab": {
          "base_uri": "https://localhost:8080/"
        },
        "id": "pZV8c5YrgUZi",
        "outputId": "dcaf07a1-820b-4a39-83aa-387a8b057956"
      },
      "execution_count": null,
      "outputs": [
        {
          "output_type": "stream",
          "name": "stdout",
          "text": [
            "1\n",
            "2\n",
            "3\n",
            "4\n",
            "no item left in the list\n"
          ]
        }
      ]
    },
    {
      "cell_type": "markdown",
      "source": [
        "### **For Loop**"
      ],
      "metadata": {
        "id": "c0NoEQWWg21n"
      }
    },
    {
      "cell_type": "code",
      "source": [
        "l = [1,2,3,4]\n",
        "for i in l:\n",
        "    print(i)"
      ],
      "metadata": {
        "colab": {
          "base_uri": "https://localhost:8080/"
        },
        "id": "01p9RpoFg6VT",
        "outputId": "819f105d-71c6-4b42-f4a7-e0a35038c1bd"
      },
      "execution_count": null,
      "outputs": [
        {
          "output_type": "stream",
          "name": "stdout",
          "text": [
            "1\n",
            "2\n",
            "3\n",
            "4\n"
          ]
        }
      ]
    },
    {
      "cell_type": "code",
      "source": [
        "for i in range(0,10,2):\n",
        "    print(i)"
      ],
      "metadata": {
        "colab": {
          "base_uri": "https://localhost:8080/"
        },
        "id": "V_5gD9E9hqs3",
        "outputId": "8f7c2258-23d2-4676-fc7d-88e112d1d1e7"
      },
      "execution_count": null,
      "outputs": [
        {
          "output_type": "stream",
          "name": "stdout",
          "text": [
            "0\n",
            "2\n",
            "4\n",
            "6\n",
            "8\n"
          ]
        }
      ]
    }
  ]
}