{
  "nbformat": 4,
  "nbformat_minor": 0,
  "metadata": {
    "colab": {
      "provenance": [],
      "authorship_tag": "ABX9TyM6arSCjmzGXLP40yMaBx/b",
      "include_colab_link": true
    },
    "kernelspec": {
      "name": "python3",
      "display_name": "Python 3"
    },
    "language_info": {
      "name": "python"
    }
  },
  "cells": [
    {
      "cell_type": "markdown",
      "metadata": {
        "id": "view-in-github",
        "colab_type": "text"
      },
      "source": [
        "<a href=\"https://colab.research.google.com/github/Rao-Ashu/py_basic/blob/main/Strings_List.ipynb\" target=\"_parent\"><img src=\"https://colab.research.google.com/assets/colab-badge.svg\" alt=\"Open In Colab\"/></a>"
      ]
    },
    {
      "cell_type": "code",
      "execution_count": null,
      "metadata": {
        "colab": {
          "base_uri": "https://localhost:8080/"
        },
        "id": "L_t4YYhvizSo",
        "outputId": "0e400ab8-4242-4bc9-c1b4-05f589cd7e11"
      },
      "outputs": [
        {
          "output_type": "stream",
          "name": "stdout",
          "text": [
            "helloashu\n",
            "ashuashuashu\n"
          ]
        }
      ],
      "source": [
        "s1 = \"hello\"\n",
        "s2 = \"ashu\"\n",
        "print (s1 + s2)\n",
        "print (s2*3)"
      ]
    },
    {
      "cell_type": "code",
      "source": [
        "print('a' in 'ashu')"
      ],
      "metadata": {
        "colab": {
          "base_uri": "https://localhost:8080/"
        },
        "id": "3fsbQ-Hl18XC",
        "outputId": "5c59469e-9bca-4a30-a0d3-4f16a38fdc7f"
      },
      "execution_count": null,
      "outputs": [
        {
          "output_type": "stream",
          "name": "stdout",
          "text": [
            "True\n"
          ]
        }
      ]
    },
    {
      "cell_type": "markdown",
      "source": [
        "### **String Methods**\n",
        "lower(), upper(), join(), split(), find(), replace()"
      ],
      "metadata": {
        "id": "uo0cwofF2DDq"
      }
    },
    {
      "cell_type": "code",
      "source": [
        "s = \"My name is Ashu\"\n",
        "s.split(\" \")"
      ],
      "metadata": {
        "colab": {
          "base_uri": "https://localhost:8080/"
        },
        "id": "gnYeAcbY2QjD",
        "outputId": "cb8c92b0-9ac4-4ffd-a67e-8f25bf3227a4"
      },
      "execution_count": null,
      "outputs": [
        {
          "output_type": "execute_result",
          "data": {
            "text/plain": [
              "['My', 'name', 'is', 'Ashu']"
            ]
          },
          "metadata": {},
          "execution_count": 3
        }
      ]
    },
    {
      "cell_type": "code",
      "source": [
        "','.join(['my','name','is','ashu'])"
      ],
      "metadata": {
        "colab": {
          "base_uri": "https://localhost:8080/",
          "height": 35
        },
        "id": "3DY6v9x82bGJ",
        "outputId": "1568911c-8868-4b23-cc07-0ce8180f9c9c"
      },
      "execution_count": null,
      "outputs": [
        {
          "output_type": "execute_result",
          "data": {
            "text/plain": [
              "'my,name,is,ashu'"
            ],
            "application/vnd.google.colaboratory.intrinsic+json": {
              "type": "string"
            }
          },
          "metadata": {},
          "execution_count": 6
        }
      ]
    },
    {
      "cell_type": "code",
      "source": [
        "'Good Morning'.find('n') #will give index of first occurence"
      ],
      "metadata": {
        "colab": {
          "base_uri": "https://localhost:8080/"
        },
        "id": "4WmkVzd73EvT",
        "outputId": "31a04008-959b-4eca-fcb6-2607ff57eea1"
      },
      "execution_count": null,
      "outputs": [
        {
          "output_type": "execute_result",
          "data": {
            "text/plain": [
              "8"
            ]
          },
          "metadata": {},
          "execution_count": 7
        }
      ]
    },
    {
      "cell_type": "code",
      "source": [
        "\"Bad Morning\".replace(\"Bad\",\"Good\")"
      ],
      "metadata": {
        "colab": {
          "base_uri": "https://localhost:8080/",
          "height": 35
        },
        "id": "TvlCzU633UE_",
        "outputId": "0a475a98-3d67-4797-8fc7-70d7e5c04d5b"
      },
      "execution_count": null,
      "outputs": [
        {
          "output_type": "execute_result",
          "data": {
            "text/plain": [
              "'Good Morning'"
            ],
            "application/vnd.google.colaboratory.intrinsic+json": {
              "type": "string"
            }
          },
          "metadata": {},
          "execution_count": 8
        }
      ]
    },
    {
      "cell_type": "markdown",
      "source": [
        "If strings are immutable then how are we changing the bad to good, it will make the new string instead of changing the initial string itself"
      ],
      "metadata": {
        "id": "sBG49aqs3mns"
      }
    },
    {
      "cell_type": "code",
      "source": [
        "s1 = \"Bad Morning\"\n",
        "s2 = s1.replace(\"Bad\",\"good\")\n",
        "print (s1)\n",
        "print (s2)"
      ],
      "metadata": {
        "colab": {
          "base_uri": "https://localhost:8080/"
        },
        "id": "B2354aIW331U",
        "outputId": "ac322856-99fd-4ff0-c52d-1a32af38b376"
      },
      "execution_count": null,
      "outputs": [
        {
          "output_type": "stream",
          "name": "stdout",
          "text": [
            "Bad Morning\n",
            "good Morning\n"
          ]
        }
      ]
    },
    {
      "cell_type": "code",
      "source": [
        "s1 = \"Ashutosh\"\n",
        "s2 = reversed(s1)\n",
        "if list(s1) == list(s2):\n",
        "    print(\"palindrome\")\n",
        "else:\n",
        "    print(\"not palindrome\")"
      ],
      "metadata": {
        "colab": {
          "base_uri": "https://localhost:8080/"
        },
        "id": "Ae2T_UIJ4F-U",
        "outputId": "f6d0138a-5701-4f18-ec57-c6b7374d7142"
      },
      "execution_count": null,
      "outputs": [
        {
          "output_type": "stream",
          "name": "stdout",
          "text": [
            "not palindrome\n"
          ]
        }
      ]
    },
    {
      "cell_type": "code",
      "source": [
        "s = \"My name is Ashu\"\n",
        "words = s.split(' ')\n",
        "words.sort()\n",
        "for i in words:\n",
        "    print(i)"
      ],
      "metadata": {
        "colab": {
          "base_uri": "https://localhost:8080/"
        },
        "id": "-3I65MT542nC",
        "outputId": "493ae9a8-b105-44e5-c9e8-043ae222f6a1"
      },
      "execution_count": null,
      "outputs": [
        {
          "output_type": "stream",
          "name": "stdout",
          "text": [
            "Ashu\n",
            "My\n",
            "is\n",
            "name\n"
          ]
        }
      ]
    },
    {
      "cell_type": "markdown",
      "source": [
        "### **LIST**"
      ],
      "metadata": {
        "id": "rwz9Rxvi6yRk"
      }
    },
    {
      "cell_type": "code",
      "source": [
        "lst = ['one','two','three','four']\n",
        "\n",
        "#length\n",
        "print(len(lst))\n",
        "\n",
        "#add in last\n",
        "lst.append('five')\n",
        "print(lst)\n",
        "\n",
        "#insert in between\n",
        "lst.insert(2,\"added new\")\n",
        "print(lst)\n",
        "\n",
        "#remove\n",
        "lst.remove(\"four\")\n",
        "print(lst)\n",
        "\n"
      ],
      "metadata": {
        "colab": {
          "base_uri": "https://localhost:8080/"
        },
        "id": "LF745LpF60Sz",
        "outputId": "861b83ec-9bc6-4407-984c-ac440d462e73"
      },
      "execution_count": null,
      "outputs": [
        {
          "output_type": "stream",
          "name": "stdout",
          "text": [
            "4\n",
            "['one', 'two', 'three', 'four', 'five']\n",
            "['one', 'two', 'added new', 'three', 'four', 'five']\n",
            "['one', 'two', 'added new', 'three', 'five']\n"
          ]
        }
      ]
    },
    {
      "cell_type": "code",
      "source": [
        "l = [1,2,4,3,7,5,6]\n",
        "l1=sorted(l,reverse=True)\n",
        "print(l1)"
      ],
      "metadata": {
        "colab": {
          "base_uri": "https://localhost:8080/"
        },
        "id": "GLx509v28PAZ",
        "outputId": "9a26afa5-b420-432c-e25f-ca0dde9e7ede"
      },
      "execution_count": null,
      "outputs": [
        {
          "output_type": "stream",
          "name": "stdout",
          "text": [
            "[7, 6, 5, 4, 3, 2, 1]\n"
          ]
        }
      ]
    },
    {
      "cell_type": "markdown",
      "source": [
        "sorted(l1) -> returns a new seprate list, but l1.sort() will sort the array inplace only."
      ],
      "metadata": {
        "id": "xTJ1fk7W9B3e"
      }
    },
    {
      "cell_type": "code",
      "source": [
        "lst = [1,2,3,4]\n",
        "abc = lst\n",
        "abc.append(5)\n",
        "print(lst)\n",
        "#reference is to single same list only"
      ],
      "metadata": {
        "colab": {
          "base_uri": "https://localhost:8080/"
        },
        "id": "Uota97kI9Qnf",
        "outputId": "5c426106-82e9-49c8-916e-37088f2121f8"
      },
      "execution_count": null,
      "outputs": [
        {
          "output_type": "stream",
          "name": "stdout",
          "text": [
            "[1, 2, 3, 4, 5]\n"
          ]
        }
      ]
    }
  ]
}